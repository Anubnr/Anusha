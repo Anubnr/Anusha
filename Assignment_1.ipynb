{
 "cells": [
  {
   "cell_type": "markdown",
   "id": "ef4fb7a0",
   "metadata": {},
   "source": [
    "1. In the below elements which of them are values or an expression? eg:- values can be\n",
    "integer or string and expressions will be mathematical operators.\n",
    "\n",
    "* -> expression (multiplication operator)\n",
    "'hello' -> value (string)\n",
    "-87.8 -> value (integer)\n",
    "- -> expression\n",
    "/ -> expression (division operator)\n",
    "+ -> expression (addition operator)\n",
    "6 -> value (integer)"
   ]
  },
  {
   "cell_type": "raw",
   "id": "1b935a6a",
   "metadata": {},
   "source": []
  },
  {
   "cell_type": "markdown",
   "id": "4423e868",
   "metadata": {},
   "source": [
    "2. What is the difference between string and variable?\n",
    "\n",
    "a string is a data type whereas a variable is a reserved memory location to store values of any data types"
   ]
  },
  {
   "cell_type": "raw",
   "id": "aa10dc9b",
   "metadata": {},
   "source": []
  },
  {
   "cell_type": "markdown",
   "id": "49ce4add",
   "metadata": {},
   "source": [
    "3. Describe three different data types.\n",
    "\n",
    "list :\n",
    "    list is an ordered collection of data. \n",
    "    list is mutable.\n",
    "    lists are defined by []\n",
    "    \n",
    "tuple :\n",
    "    tuple is an ordered collection of data.\n",
    "    tuples are immutable.\n",
    "    tuples are defined by ( )\n",
    "    \n",
    "dictionary :\n",
    "    dict is an unordered collection of data of key and value pair.\n",
    "    dict is mutable.\n",
    "    dictionaries are return with {}"
   ]
  },
  {
   "cell_type": "raw",
   "id": "ead63a96",
   "metadata": {},
   "source": []
  },
  {
   "cell_type": "markdown",
   "id": "8388968d",
   "metadata": {},
   "source": [
    "4. What is an expression made up of? What do all expressions do?\n",
    "\n",
    "An expression is combination of operators and operands. They evaluates some value/result.\n"
   ]
  },
  {
   "cell_type": "raw",
   "id": "247458a2",
   "metadata": {},
   "source": [
    "5. This assignment statements, like spam = 10. What is the difference between an\n",
    "expression and a statement?\n",
    "\n",
    "This assignment statements, like spam = 10. What is the difference between an expression and a statement?\n",
    "An expression produces a result, whereas a statment may or maynot produce a result."
   ]
  },
  {
   "cell_type": "markdown",
   "id": "f6115869",
   "metadata": {},
   "source": [
    "6. After running the following code, what does the variable bacon contain?\n",
    "bacon = 22\n",
    "bacon + 1\n",
    "\n",
    "The variable bacon contains 23"
   ]
  },
  {
   "cell_type": "code",
   "execution_count": null,
   "id": "a14d4450",
   "metadata": {},
   "outputs": [],
   "source": []
  },
  {
   "cell_type": "markdown",
   "id": "1dd46cf3",
   "metadata": {},
   "source": [
    "7. What should the values of the following two terms be?\n",
    "'spam'+'spamsapm'\n",
    "'spam'*3\n",
    "\n",
    "'spam'+'spamspam' and 'spam'*3 both produces the same result, that is 'spamspamspam'"
   ]
  },
  {
   "cell_type": "code",
   "execution_count": null,
   "id": "a26ba811",
   "metadata": {},
   "outputs": [],
   "source": []
  },
  {
   "cell_type": "markdown",
   "id": "2b1ccb73",
   "metadata": {},
   "source": [
    "8. Why is eggs a valid variable name while 100 is invalid?\n",
    "\n",
    "a variable must start with an alphabet or underscore. A variable name which strts with a number is not valid. So variable name eggs is valid but 100 is invalid"
   ]
  },
  {
   "cell_type": "raw",
   "id": "0b13685a",
   "metadata": {},
   "source": []
  },
  {
   "cell_type": "markdown",
   "id": "706b82fa",
   "metadata": {},
   "source": [
    "9. What three functions can be used to get the integer, floating-point number, or string version of a value?\n",
    "\n",
    "int(), float() and str() are the three functions used to get the integer, floaing-point number and string version of a value"
   ]
  },
  {
   "cell_type": "raw",
   "id": "954272ce",
   "metadata": {},
   "source": []
  },
  {
   "cell_type": "markdown",
   "id": "ec470ec3",
   "metadata": {},
   "source": [
    "10. Why does this expression cause an error? How can you fix it?\n",
    "'i have eatten' +99+ 'burrotis'\n",
    "\n",
    "the expression 'i have eatten' +99+ 'burrotis' causes an error because it can only concatenate string to string but not integer. We can fix it by keeping 99 in '' or \"\""
   ]
  },
  {
   "cell_type": "code",
   "execution_count": null,
   "id": "eeac1cd5",
   "metadata": {},
   "outputs": [],
   "source": []
  },
  {
   "cell_type": "code",
   "execution_count": null,
   "id": "74458d92",
   "metadata": {},
   "outputs": [],
   "source": []
  },
  {
   "cell_type": "code",
   "execution_count": null,
   "id": "b0310b9c",
   "metadata": {},
   "outputs": [],
   "source": []
  }
 ],
 "metadata": {
  "kernelspec": {
   "display_name": "Python 3 (ipykernel)",
   "language": "python",
   "name": "python3"
  },
  "language_info": {
   "codemirror_mode": {
    "name": "ipython",
    "version": 3
   },
   "file_extension": ".py",
   "mimetype": "text/x-python",
   "name": "python",
   "nbconvert_exporter": "python",
   "pygments_lexer": "ipython3",
   "version": "3.9.7"
  }
 },
 "nbformat": 4,
 "nbformat_minor": 5
}
